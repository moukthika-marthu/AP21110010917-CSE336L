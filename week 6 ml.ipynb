{
 "cells": [
  {
   "cell_type": "code",
   "execution_count": 1,
   "id": "33b4395b",
   "metadata": {},
   "outputs": [],
   "source": [
    "import numpy as np\n",
    "import pandas as pd\n",
    "from sklearn.preprocessing import StandardScaler"
   ]
  },
  {
   "cell_type": "code",
   "execution_count": 4,
   "id": "be3641fb",
   "metadata": {},
   "outputs": [],
   "source": [
    "df=pd.read_csv(\"diabetes.csv\")"
   ]
  },
  {
   "cell_type": "code",
   "execution_count": 5,
   "id": "b3ce056c",
   "metadata": {},
   "outputs": [
    {
     "data": {
      "text/html": [
       "<div>\n",
       "<style scoped>\n",
       "    .dataframe tbody tr th:only-of-type {\n",
       "        vertical-align: middle;\n",
       "    }\n",
       "\n",
       "    .dataframe tbody tr th {\n",
       "        vertical-align: top;\n",
       "    }\n",
       "\n",
       "    .dataframe thead th {\n",
       "        text-align: right;\n",
       "    }\n",
       "</style>\n",
       "<table border=\"1\" class=\"dataframe\">\n",
       "  <thead>\n",
       "    <tr style=\"text-align: right;\">\n",
       "      <th></th>\n",
       "      <th>Pregnancies</th>\n",
       "      <th>Glucose</th>\n",
       "      <th>BloodPressure</th>\n",
       "      <th>SkinThickness</th>\n",
       "      <th>Insulin</th>\n",
       "      <th>BMI</th>\n",
       "      <th>DiabetesPedigreeFunction</th>\n",
       "      <th>Age</th>\n",
       "      <th>Outcome</th>\n",
       "    </tr>\n",
       "  </thead>\n",
       "  <tbody>\n",
       "    <tr>\n",
       "      <th>0</th>\n",
       "      <td>6</td>\n",
       "      <td>148</td>\n",
       "      <td>72</td>\n",
       "      <td>35</td>\n",
       "      <td>0</td>\n",
       "      <td>33.6</td>\n",
       "      <td>0.627</td>\n",
       "      <td>50</td>\n",
       "      <td>1</td>\n",
       "    </tr>\n",
       "    <tr>\n",
       "      <th>1</th>\n",
       "      <td>1</td>\n",
       "      <td>85</td>\n",
       "      <td>66</td>\n",
       "      <td>29</td>\n",
       "      <td>0</td>\n",
       "      <td>26.6</td>\n",
       "      <td>0.351</td>\n",
       "      <td>31</td>\n",
       "      <td>0</td>\n",
       "    </tr>\n",
       "    <tr>\n",
       "      <th>2</th>\n",
       "      <td>8</td>\n",
       "      <td>183</td>\n",
       "      <td>64</td>\n",
       "      <td>0</td>\n",
       "      <td>0</td>\n",
       "      <td>23.3</td>\n",
       "      <td>0.672</td>\n",
       "      <td>32</td>\n",
       "      <td>1</td>\n",
       "    </tr>\n",
       "    <tr>\n",
       "      <th>3</th>\n",
       "      <td>1</td>\n",
       "      <td>89</td>\n",
       "      <td>66</td>\n",
       "      <td>23</td>\n",
       "      <td>94</td>\n",
       "      <td>28.1</td>\n",
       "      <td>0.167</td>\n",
       "      <td>21</td>\n",
       "      <td>0</td>\n",
       "    </tr>\n",
       "    <tr>\n",
       "      <th>4</th>\n",
       "      <td>0</td>\n",
       "      <td>137</td>\n",
       "      <td>40</td>\n",
       "      <td>35</td>\n",
       "      <td>168</td>\n",
       "      <td>43.1</td>\n",
       "      <td>2.288</td>\n",
       "      <td>33</td>\n",
       "      <td>1</td>\n",
       "    </tr>\n",
       "  </tbody>\n",
       "</table>\n",
       "</div>"
      ],
      "text/plain": [
       "   Pregnancies  Glucose  BloodPressure  SkinThickness  Insulin   BMI  \\\n",
       "0            6      148             72             35        0  33.6   \n",
       "1            1       85             66             29        0  26.6   \n",
       "2            8      183             64              0        0  23.3   \n",
       "3            1       89             66             23       94  28.1   \n",
       "4            0      137             40             35      168  43.1   \n",
       "\n",
       "   DiabetesPedigreeFunction  Age  Outcome  \n",
       "0                     0.627   50        1  \n",
       "1                     0.351   31        0  \n",
       "2                     0.672   32        1  \n",
       "3                     0.167   21        0  \n",
       "4                     2.288   33        1  "
      ]
     },
     "execution_count": 5,
     "metadata": {},
     "output_type": "execute_result"
    }
   ],
   "source": [
    "df.head(5)"
   ]
  },
  {
   "cell_type": "code",
   "execution_count": 6,
   "id": "2bb9ee9b",
   "metadata": {},
   "outputs": [],
   "source": [
    "X=df.drop(['Outcome'],axis=1)\n",
    "Y=df['Outcome']"
   ]
  },
  {
   "cell_type": "code",
   "execution_count": 7,
   "id": "2f2b5d23",
   "metadata": {},
   "outputs": [],
   "source": [
    "X = StandardScaler().fit_transform(X)"
   ]
  },
  {
   "cell_type": "code",
   "execution_count": 8,
   "id": "bd87e68c",
   "metadata": {},
   "outputs": [],
   "source": [
    "from sklearn.model_selection import train_test_split"
   ]
  },
  {
   "cell_type": "code",
   "execution_count": 9,
   "id": "60fbed79",
   "metadata": {},
   "outputs": [],
   "source": [
    "X_train,X_test,y_train,y_test=train_test_split(X,Y,test_size=0.2,random_state=32)"
   ]
  },
  {
   "cell_type": "code",
   "execution_count": 10,
   "id": "61671929",
   "metadata": {},
   "outputs": [],
   "source": [
    "def most_common(lst):\n",
    "    return max(set(lst), key=lst.count)"
   ]
  },
  {
   "cell_type": "code",
   "execution_count": 11,
   "id": "a3df6e77",
   "metadata": {},
   "outputs": [],
   "source": [
    "def euclidean(point, data):\n",
    "    return np.sqrt(np.sum((point - data)**2, axis=1))"
   ]
  },
  {
   "cell_type": "code",
   "execution_count": 12,
   "id": "4231ef14",
   "metadata": {},
   "outputs": [],
   "source": [
    "class KNeighborsClassifier():\n",
    "    def __init__(self, k=5, dist_metric=euclidean):\n",
    "        self.k = k\n",
    "        self.dist_metric = dist_metric\n",
    "    def fit(self, X_train, y_train):\n",
    "        self.X_train = X_train\n",
    "        self.y_train = y_train\n",
    "    def predict(self, X_test):\n",
    "        neighbors = []\n",
    "        for x in X_test:\n",
    "            distances = self.dist_metric(x, self.X_train)\n",
    "            y_sorted = [y for _, y in sorted(zip(distances, self.y_train))]\n",
    "            neighbors.append(y_sorted[:self.k])\n",
    "        return list(map(most_common, neighbors))"
   ]
  },
  {
   "cell_type": "code",
   "execution_count": 13,
   "id": "e0b9271a",
   "metadata": {},
   "outputs": [],
   "source": [
    "knn=KNeighborsClassifier()"
   ]
  },
  {
   "cell_type": "code",
   "execution_count": 14,
   "id": "92b1aa0b",
   "metadata": {},
   "outputs": [],
   "source": [
    "knn.fit(X_train,y_train)"
   ]
  },
  {
   "cell_type": "code",
   "execution_count": 15,
   "id": "00ed0966",
   "metadata": {},
   "outputs": [],
   "source": [
    "y_pred=knn.predict(X_test)"
   ]
  },
  {
   "cell_type": "code",
   "execution_count": 16,
   "id": "45f910ca",
   "metadata": {},
   "outputs": [],
   "source": [
    "from sklearn.metrics import confusion_matrix\n",
    "from sklearn.metrics import classification_report\n",
    "import seaborn as sns\n",
    "import matplotlib.pyplot as plt"
   ]
  },
  {
   "cell_type": "code",
   "execution_count": 17,
   "id": "9eb3c5d1",
   "metadata": {},
   "outputs": [
    {
     "name": "stdout",
     "output_type": "stream",
     "text": [
      "              precision    recall  f1-score   support\n",
      "\n",
      "           0       0.86      0.84      0.85       101\n",
      "           1       0.71      0.74      0.72        53\n",
      "\n",
      "    accuracy                           0.81       154\n",
      "   macro avg       0.78      0.79      0.79       154\n",
      "weighted avg       0.81      0.81      0.81       154\n",
      "\n"
     ]
    }
   ],
   "source": [
    "print(classification_report(y_pred,y_test))"
   ]
  },
  {
   "cell_type": "code",
   "execution_count": 18,
   "id": "307272a3",
   "metadata": {},
   "outputs": [],
   "source": [
    "cm=confusion_matrix(y_pred,y_test)"
   ]
  },
  {
   "cell_type": "code",
   "execution_count": 19,
   "id": "ffba584d",
   "metadata": {},
   "outputs": [
    {
     "data": {
      "image/png": "[encoded data removed]",
      "text/plain": [
       "<Figure size 640x480 with 2 Axes>"
      ]
     },
     "metadata": {},
     "output_type": "display_data"
    }
   ],
   "source": [
    "sns.heatmap(cm, annot=True,fmt='g',)\n",
    "plt.ylabel('Prediction',fontsize=13)\n",
    "plt.xlabel('Actual',fontsize=13)\n",
    "plt.title('Confusion Matrix',fontsize=17)\n",
    "plt.show()"
   ]
  },
  {
   "cell_type": "code",
   "execution_count": 20,
   "id": "cc1b2cee",
   "metadata": {},
   "outputs": [],
   "source": [
    "from sklearn.metrics import accuracy_score\n",
    "a=[]\n",
    "# Loop through different values of k from 1 to 99\n",
    "for i in range(1,100):\n",
    "    clf = KNeighborsClassifier(i)\n",
    "    clf.fit(X_train, y_train)\n",
    "    prediction = clf.predict(X_test)\n",
    "    a.append(accuracy_score(y_test, prediction))"
   ]
  },
  {
   "cell_type": "code",
   "execution_count": 22,
   "id": "e78391d6",
   "metadata": {},
   "outputs": [
    {
     "data": {
      "text/plain": [
       "[0.7532467532467533,\n",
       " 0.7662337662337663,\n",
       " 0.7922077922077922,\n",
       " 0.7727272727272727,\n",
       " 0.8051948051948052,\n",
       " 0.7662337662337663,\n",
       " 0.8181818181818182,\n",
       " 0.7857142857142857,\n",
       " 0.8051948051948052,\n",
       " 0.7857142857142857,\n",
       " 0.8051948051948052,\n",
       " 0.7987012987012987,\n",
       " 0.8181818181818182,\n",
       " 0.7922077922077922,\n",
       " 0.8051948051948052,\n",
       " 0.8051948051948052,\n",
       " 0.8116883116883117,\n",
       " 0.7922077922077922,\n",
       " 0.7922077922077922,\n",
       " 0.7922077922077922,\n",
       " 0.7792207792207793,\n",
       " 0.7857142857142857,\n",
       " 0.7597402597402597,\n",
       " 0.7662337662337663,\n",
       " 0.7597402597402597,\n",
       " 0.7662337662337663,\n",
       " 0.7597402597402597,\n",
       " 0.7597402597402597,\n",
       " 0.7662337662337663,\n",
       " 0.7467532467532467,\n",
       " 0.7597402597402597,\n",
       " 0.7597402597402597,\n",
       " 0.7532467532467533,\n",
       " 0.7467532467532467,\n",
       " 0.7532467532467533,\n",
       " 0.7597402597402597,\n",
       " 0.7597402597402597,\n",
       " 0.7727272727272727,\n",
       " 0.7662337662337663,\n",
       " 0.7662337662337663,\n",
       " 0.7727272727272727,\n",
       " 0.7727272727272727,\n",
       " 0.7727272727272727,\n",
       " 0.7662337662337663,\n",
       " 0.7727272727272727,\n",
       " 0.7662337662337663,\n",
       " 0.7597402597402597,\n",
       " 0.7597402597402597,\n",
       " 0.7792207792207793,\n",
       " 0.7727272727272727,\n",
       " 0.7792207792207793,\n",
       " 0.7597402597402597,\n",
       " 0.7727272727272727,\n",
       " 0.7727272727272727,\n",
       " 0.7727272727272727,\n",
       " 0.7662337662337663,\n",
       " 0.7792207792207793,\n",
       " 0.7597402597402597,\n",
       " 0.7597402597402597,\n",
       " 0.7597402597402597,\n",
       " 0.7532467532467533,\n",
       " 0.7597402597402597,\n",
       " 0.7597402597402597,\n",
       " 0.7662337662337663,\n",
       " 0.7662337662337663,\n",
       " 0.7597402597402597,\n",
       " 0.7727272727272727,\n",
       " 0.7597402597402597,\n",
       " 0.7662337662337663,\n",
       " 0.7727272727272727,\n",
       " 0.7727272727272727,\n",
       " 0.7727272727272727,\n",
       " 0.7727272727272727,\n",
       " 0.7792207792207793,\n",
       " 0.7792207792207793,\n",
       " 0.7727272727272727,\n",
       " 0.7792207792207793,\n",
       " 0.7727272727272727,\n",
       " 0.7727272727272727,\n",
       " 0.7662337662337663,\n",
       " 0.7727272727272727,\n",
       " 0.7727272727272727,\n",
       " 0.7792207792207793,\n",
       " 0.7792207792207793,\n",
       " 0.7792207792207793,\n",
       " 0.7662337662337663,\n",
       " 0.7792207792207793,\n",
       " 0.7727272727272727,\n",
       " 0.7727272727272727,\n",
       " 0.7662337662337663,\n",
       " 0.7792207792207793,\n",
       " 0.7727272727272727,\n",
       " 0.7792207792207793,\n",
       " 0.7727272727272727,\n",
       " 0.7727272727272727,\n",
       " 0.7727272727272727,\n",
       " 0.7792207792207793,\n",
       " 0.7792207792207793,\n",
       " 0.7922077922077922]"
      ]
     },
     "execution_count": 22,
     "metadata": {},
     "output_type": "execute_result"
    }
   ],
   "source": [
    "a"
   ]
  },
  {
   "cell_type": "code",
   "execution_count": 23,
   "id": "abef6dca",
   "metadata": {},
   "outputs": [
    {
     "data": {
      "image/png": "[encoded data removed]",
      "text/plain": [
       "<Figure size 640x480 with 1 Axes>"
      ]
     },
     "metadata": {},
     "output_type": "display_data"
    }
   ],
   "source": [
    "plt.plot(a)\n",
    "plt.show()"
   ]
  },
  {
   "cell_type": "code",
   "execution_count": null,
   "id": "439c3938",
   "metadata": {},
   "outputs": [],
   "source": []
  }
 ],
 "metadata": {
  "kernelspec": {
   "display_name": "Python 3 (ipykernel)",
   "language": "python",
   "name": "python3"
  },
  "language_info": {
   "codemirror_mode": {
    "name": "ipython",
    "version": 3
   },
   "file_extension": ".py",
   "mimetype": "text/x-python",
   "name": "python",
   "nbconvert_exporter": "python",
   "pygments_lexer": "ipython3",
   "version": "3.10.9"
  }
 },
 "nbformat": 4,
 "nbformat_minor": 5
}
